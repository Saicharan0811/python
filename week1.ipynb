{
 "cells": [
  {
   "cell_type": "code",
   "execution_count": 1,
   "metadata": {},
   "outputs": [
    {
     "name": "stdout",
     "output_type": "stream",
     "text": [
      "enter a number4\n",
      "enter a number5\n",
      "add: 9\n",
      "sub: -1\n",
      "multiplication: 20\n",
      "division: 0.8\n"
     ]
    }
   ],
   "source": [
    "#Calculator\n",
    "a=int(input(\"enter a number\"))\n",
    "b=int(input(\"enter a number\"))\n",
    "print(\"add:\",a+b)\n",
    "print(\"sub:\",a-b)\n",
    "print(\"multiplication:\",a*b)\n",
    "print(\"division:\",a/b)\n"
   ]
  },
  {
   "cell_type": "code",
   "execution_count": 2,
   "metadata": {},
   "outputs": [
    {
     "ename": "IndentationError",
     "evalue": "unexpected indent (<ipython-input-2-3b80d3a6a501>, line 3)",
     "output_type": "error",
     "traceback": [
      "\u001b[1;36m  File \u001b[1;32m\"<ipython-input-2-3b80d3a6a501>\"\u001b[1;36m, line \u001b[1;32m3\u001b[0m\n\u001b[1;33m    b=2\u001b[0m\n\u001b[1;37m    ^\u001b[0m\n\u001b[1;31mIndentationError\u001b[0m\u001b[1;31m:\u001b[0m unexpected indent\n"
     ]
    }
   ],
   "source": [
    "#Indentation Error \n",
    "a=5\n",
    "    b=2\n",
    "print(\"add:\",a+b)\n",
    "#correct program\n",
    "a=5\n",
    "b=2\n",
    "Print(“add:”,a+b)\n"
   ]
  },
  {
   "cell_type": "code",
   "execution_count": 3,
   "metadata": {},
   "outputs": [
    {
     "name": "stdout",
     "output_type": "stream",
     "text": [
      "amount after time period 1061.208\n",
      "compound intrest: 61.208000000000084\n"
     ]
    }
   ],
   "source": [
    "#compound interest\n",
    "#p=principle,r=rate,t=time period,CI=compound interest,A=amount after time period\n",
    "p=1000\n",
    "r=2\n",
    "t=3\n",
    "A=p*((1+r/100)**t)\n",
    "CI=A-p\n",
    "print(\"amount after time period\",A)\n",
    "print(\"compound intrest:\",CI)\n"
   ]
  },
  {
   "cell_type": "code",
   "execution_count": 4,
   "metadata": {},
   "outputs": [
    {
     "name": "stdout",
     "output_type": "stream",
     "text": [
      "enter the x1 value0\n",
      "enter the x2 value2\n",
      "enter the y1 value0\n",
      "enter the y2 value2\n",
      "distance between two given points is  2.8284271247461903\n"
     ]
    }
   ],
   "source": [
    "x1=int(input(\"enter the x1 value\"))\n",
    "x2=int(input(\"enter the x2 value\"))\n",
    "y1=int(input(\"enter the y1 value\"))\n",
    "y2=int(input(\"enter the y2 value\"))\n",
    "d=((x1-x2)**2+(y1-y2)**2)**(1/2)\n",
    "print(\"distance between two given points is \",d)\n"
   ]
  },
  {
   "cell_type": "code",
   "execution_count": 5,
   "metadata": {},
   "outputs": [
    {
     "name": "stdout",
     "output_type": "stream",
     "text": [
      "enter your name  sai\n",
      "enter your email-id  :sai@gmail.com\n",
      "enter your phone number  :987456321\n",
      "enter your address :asjjas\n",
      "Name: sai\n",
      "Email-id: sai@gmail.com\n",
      "Phone-no: 987456321\n",
      "Address: asjjas\n"
     ]
    }
   ],
   "source": [
    "name=input(\"enter your name  \")\n",
    "email_id=input(\"enter your email-id  :\")\n",
    "phone_no=int(input(\"enter your phone number  :\"))\n",
    "address=input(\"enter your address :\")\n",
    "print(\"Name:\",name)\n",
    "print(\"Email-id:\",email_id)\n",
    "print(\"Phone-no:\",phone_no)\n",
    "print(\"Address:\",address)\n"
   ]
  },
  {
   "cell_type": "code",
   "execution_count": null,
   "metadata": {},
   "outputs": [],
   "source": []
  }
 ],
 "metadata": {
  "kernelspec": {
   "display_name": "Python 3",
   "language": "python",
   "name": "python3"
  },
  "language_info": {
   "codemirror_mode": {
    "name": "ipython",
    "version": 3
   },
   "file_extension": ".py",
   "mimetype": "text/x-python",
   "name": "python",
   "nbconvert_exporter": "python",
   "pygments_lexer": "ipython3",
   "version": "3.7.3"
  }
 },
 "nbformat": 4,
 "nbformat_minor": 2
}
