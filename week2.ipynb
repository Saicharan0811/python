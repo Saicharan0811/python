{
 "cells": [
  {
   "cell_type": "code",
   "execution_count": 1,
   "metadata": {},
   "outputs": [
    {
     "name": "stdout",
     "output_type": "stream",
     "text": [
      "5 \n",
      "\n",
      "4 4 \n",
      "\n",
      "3 3 3 \n",
      "\n",
      "2 2 2 2 \n",
      "\n",
      "1 1 1 1 1 \n",
      "\n"
     ]
    }
   ],
   "source": [
    "num=5\n",
    "for i in range(0,5):\n",
    "    for j in range(0,i+1):\n",
    "        print(num,end=\" \")\n",
    "    print(\"\\n\")\n",
    "    num=num-1\n"
   ]
  },
  {
   "cell_type": "code",
   "execution_count": 2,
   "metadata": {},
   "outputs": [
    {
     "name": "stdout",
     "output_type": "stream",
     "text": [
      "enter any element1\n",
      "Given input are numbers\n"
     ]
    }
   ],
   "source": [
    "a=input(\"enter any element\")\n",
    "if a.islower():\n",
    "    print(\"given input is of lower case characters\")\n",
    "elif a.isupper():\n",
    "    print(\"given input is of upper case characters\")\n",
    "elif a.isalnum():\n",
    "    print(\"Given input are numbers\")\n",
    "else:\n",
    "    print(\"special characters\")\n"
   ]
  },
  {
   "cell_type": "code",
   "execution_count": 4,
   "metadata": {},
   "outputs": [
    {
     "name": "stdout",
     "output_type": "stream",
     "text": [
      "enter the number of elements in fibonacci series10\n",
      "0\n",
      "1\n",
      "1\n",
      "2\n",
      "3\n",
      "5\n",
      "8\n",
      "13\n",
      "21\n",
      "34\n"
     ]
    }
   ],
   "source": [
    "#fibonacci series\n",
    "a=int(input(\"enter the number of elements in fibonacci series\"))\n",
    "l=0\n",
    "i=0\n",
    "j=1\n",
    "k=i+j\n",
    "for l in range(0,a):\n",
    "    print(i)\n",
    "    i=j\n",
    "    j=k\n",
    "    k=i+j\n"
   ]
  },
  {
   "cell_type": "code",
   "execution_count": 8,
   "metadata": {},
   "outputs": [
    {
     "name": "stdout",
     "output_type": "stream",
     "text": [
      "enter the lowest  range0\n",
      "enter the upper range30\n"
     ]
    }
   ],
   "source": [
    "count=0\n",
    "a=int(input(\"enter the lowest  range\"))\n",
    "b=int(input(\"enter the upper range\"))\n",
    "for n in range(a,b):\n",
    "    if(n>0):\n",
    "        for j in range(1,n+1):\n",
    "            if(n%j==0):\n",
    "                count=count+1\n",
    "                        \t\n",
    "        if(count==2):\n",
    "            print(n,\" is a prime number\")\n",
    "        count=0\n",
    "    else:\n",
    "        break\n"
   ]
  },
  {
   "cell_type": "code",
   "execution_count": 12,
   "metadata": {},
   "outputs": [
    {
     "name": "stdout",
     "output_type": "stream",
     "text": [
      "3\n",
      "4\n",
      "12\n"
     ]
    }
   ],
   "source": [
    "import math as m\n",
    "num1=int(input())\n",
    "num2=int(input())\n",
    "HCF=m.gcd(num1,num2)\n",
    "LCM=int((num1*num2)/(HCF))\n",
    "print(LCM)\n"
   ]
  },
  {
   "cell_type": "code",
   "execution_count": null,
   "metadata": {},
   "outputs": [],
   "source": []
  },
  {
   "cell_type": "code",
   "execution_count": null,
   "metadata": {},
   "outputs": [],
   "source": []
  }
 ],
 "metadata": {
  "kernelspec": {
   "display_name": "Python 3",
   "language": "python",
   "name": "python3"
  },
  "language_info": {
   "codemirror_mode": {
    "name": "ipython",
    "version": 3
   },
   "file_extension": ".py",
   "mimetype": "text/x-python",
   "name": "python",
   "nbconvert_exporter": "python",
   "pygments_lexer": "ipython3",
   "version": "3.7.3"
  }
 },
 "nbformat": 4,
 "nbformat_minor": 2
}
